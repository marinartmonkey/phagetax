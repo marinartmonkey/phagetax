{
 "cells": [
  {
   "cell_type": "code",
   "execution_count": null,
   "id": "1f794ac4-8bda-4912-a56a-e14dc50ddda9",
   "metadata": {},
   "outputs": [],
   "source": [
    "Este script lee automáticamente el archivo Excel y detecta la fila donde comienzan los encabezados \n",
    "de la tabla principal. A continuación, filtra las filas cuya columna \"Host source\" contiene la palabra \"bacteria\", \n",
    "identificando así los virus que infectan bacterias (fagos). Los resultados filtrados se guardan en un archivo \n",
    "CSV llamado `fagos_filtrados.csv`, y cada paso del proceso, incluidos posibles errores, se registra en un archivo de \n",
    "log (`log.txt`) para facilitar el seguimiento y la trazabilidad del procesamiento."
   ]
  },
  {
   "cell_type": "code",
   "execution_count": 7,
   "id": "07e9cbc4-2f4e-45d9-a411-da2611d89507",
   "metadata": {},
   "outputs": [],
   "source": [
    "import pandas as pd\n",
    "from datetime import datetime\n",
    "import os"
   ]
  },
  {
   "cell_type": "code",
   "execution_count": 10,
   "id": "a1acaa35-589f-484a-b455-e32001fd1cce",
   "metadata": {},
   "outputs": [
    {
     "name": "stderr",
     "output_type": "stream",
     "text": [
      "/home/modules/anaconda_new/python39/lib/python3.9/site-packages/openpyxl/worksheet/_read_only.py:85: UserWarning: Conditional Formatting extension is not supported and will be removed\n",
      "  for idx, row in parser.parse():\n",
      "/home/modules/anaconda_new/python39/lib/python3.9/site-packages/openpyxl/worksheet/_read_only.py:85: UserWarning: Data Validation extension is not supported and will be removed\n",
      "  for idx, row in parser.parse():\n"
     ]
    },
    {
     "name": "stdout",
     "output_type": "stream",
     "text": [
      "✅ Archivo Excel cargado correctamente.\n",
      "✅ Encabezados detectados en la fila 0.\n",
      "✅ 6764 fagos guardados en '/home/alumno08/TFM/fase 2/fagos_filtrados.csv'.\n"
     ]
    },
    {
     "name": "stderr",
     "output_type": "stream",
     "text": [
      "/home/modules/anaconda_new/python39/lib/python3.9/site-packages/openpyxl/worksheet/_read_only.py:85: UserWarning: Conditional Formatting extension is not supported and will be removed\n",
      "  for idx, row in parser.parse():\n",
      "/home/modules/anaconda_new/python39/lib/python3.9/site-packages/openpyxl/worksheet/_read_only.py:85: UserWarning: Data Validation extension is not supported and will be removed\n",
      "  for idx, row in parser.parse():\n"
     ]
    }
   ],
   "source": [
    "# Ruta al archivo Excel\n",
    "ruta_archivo = \"/home/alumno08/TFM/fase 2/VMR_MSL40.v1.20250307.xlsx\"\n",
    "ruta_log = \"/home/alumno08/TFM/fase 2/log.txt\"\n",
    "\n",
    "def escribir_log(mensaje):\n",
    "    hora = datetime.now().strftime(\"%Y-%m-%d %H:%M:%S\")\n",
    "    with open(ruta_log, \"a\") as f:\n",
    "        f.write(f\"[{hora}] {mensaje}\\n\")\n",
    "    print(mensaje)\n",
    "\n",
    "if not os.path.exists(ruta_archivo):\n",
    "    escribir_log(f\"❌ El archivo no se encontró: {ruta_archivo}\")\n",
    "else:\n",
    "    try:\n",
    "        df_raw = pd.read_excel(ruta_archivo, sheet_name=\"VMR MSL40\", header=None)\n",
    "        escribir_log(\"✅ Archivo Excel cargado correctamente.\")\n",
    "\n",
    "        # Detectar fila de encabezados\n",
    "        header_row = None\n",
    "        for i in range(50):\n",
    "            if df_raw.iloc[i].astype(str).str.contains(\"Virus name\", case=False).any():\n",
    "                header_row = i\n",
    "                break\n",
    "\n",
    "        if header_row is None:\n",
    "            escribir_log(\"❌ No se encontró la fila de encabezados.\")\n",
    "        else:\n",
    "            df = pd.read_excel(ruta_archivo, sheet_name=\"VMR MSL40\", skiprows=header_row)\n",
    "            escribir_log(f\"✅ Encabezados detectados en la fila {header_row}.\")\n",
    "\n",
    "            if \"Host source\" in df.columns:\n",
    "                df_fagos = df[df[\"Host source\"].astype(str).str.contains(\"bacteria\", case=False, na=False)]\n",
    "                ruta_salida = \"/home/alumno08/TFM/fase 2/fagos_filtrados.csv\"\n",
    "                df_fagos.to_csv(ruta_salida, index=False)\n",
    "                escribir_log(f\"✅ {len(df_fagos)} fagos guardados en '{ruta_salida}'.\")\n",
    "            else:\n",
    "                escribir_log(\"❌ La columna 'Host source' no se encontró.\")\n",
    "    except Exception as e:\n",
    "        escribir_log(f\"❌ Error al procesar el archivo: {str(e)}\")"
   ]
  }
 ],
 "metadata": {
  "kernelspec": {
   "display_name": "Python 3.9",
   "language": "python",
   "name": "python3"
  },
  "language_info": {
   "codemirror_mode": {
    "name": "ipython",
    "version": 3
   },
   "file_extension": ".py",
   "mimetype": "text/x-python",
   "name": "python",
   "nbconvert_exporter": "python",
   "pygments_lexer": "ipython3",
   "version": "3.9.21"
  }
 },
 "nbformat": 4,
 "nbformat_minor": 5
}
